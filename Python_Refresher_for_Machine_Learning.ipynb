{
  "nbformat": 4,
  "nbformat_minor": 0,
  "metadata": {
    "colab": {
      "provenance": [],
      "authorship_tag": "ABX9TyPjwr+M7+x6tQFX3UAV/WwR",
      "include_colab_link": true
    },
    "kernelspec": {
      "name": "python3",
      "display_name": "Python 3"
    },
    "language_info": {
      "name": "python"
    }
  },
  "cells": [
    {
      "cell_type": "markdown",
      "metadata": {
        "id": "view-in-github",
        "colab_type": "text"
      },
      "source": [
        "<a href=\"https://colab.research.google.com/github/Sibahle01/Python-Refresher-for-Machine-Learning/blob/main/Python_Refresher_for_Machine_Learning.ipynb\" target=\"_parent\"><img src=\"https://colab.research.google.com/assets/colab-badge.svg\" alt=\"Open In Colab\"/></a>"
      ]
    },
    {
      "cell_type": "markdown",
      "source": [
        "# Python Refresher for Machine Learning\n",
        "\n",
        "Welcome to this Python refresher course! In this notebook, we'll cover essential Python concepts and build a **Climate Data Analysis System** to demonstrate real-world data science skills.\n",
        "\n",
        "By the end of this lesson, you'll:\n",
        "- Refresh your Python fundamentals.\n",
        "- Learn how to work with APIs, clean data, and generate visualizations.\n",
        "- Build a professional-grade project to showcase your skills.\n",
        "\n",
        "\n"
      ],
      "metadata": {
        "id": "umwfJDKQVbKv"
      }
    },
    {
      "cell_type": "markdown",
      "source": [
        "Python Basics Review:\n",
        "\n",
        ">  Variables and Data Types\n",
        "\n",
        "\n"
      ],
      "metadata": {
        "id": "h0U2EC4qXfqV"
      }
    },
    {
      "cell_type": "code",
      "execution_count": 2,
      "metadata": {
        "id": "nNA1ztmFVFMh"
      },
      "outputs": [],
      "source": [
        "name = \"Data Science Student\"\n",
        "age = 25\n",
        "score = 92.5\n",
        "is_enrolled = True"
      ]
    },
    {
      "cell_type": "markdown",
      "source": [
        "   >Lists, Tuples, and Dictionaries"
      ],
      "metadata": {
        "id": "zptMwGFCYGKD"
      }
    },
    {
      "cell_type": "code",
      "source": [
        "# Lists\n",
        "scores = [85, 90, 78, 92, 88]\n",
        "print(f\"First score: {scores[0]}\")\n",
        "print(f\"Last score: {scores[-1]}\")\n",
        "scores.append(95)\n",
        "print(f\"Updated scores: {scores}\")"
      ],
      "metadata": {
        "id": "gq1DD5QXYHqp"
      },
      "execution_count": null,
      "outputs": []
    },
    {
      "cell_type": "code",
      "source": [
        "# Dictionaries\n",
        "student = {\n",
        "    \"name\": \"Alex\",\n",
        "    \"scores\": [88, 92, 85],\n",
        "    \"courses\": [\"Python\", \"Statistics\", \"ML Basics\"]\n",
        "}"
      ],
      "metadata": {
        "collapsed": true,
        "id": "J0vJDNuYY22j"
      },
      "execution_count": null,
      "outputs": []
    },
    {
      "cell_type": "markdown",
      "source": [
        ">Control Flow"
      ],
      "metadata": {
        "id": "YnzGss3vZDwN"
      }
    },
    {
      "cell_type": "code",
      "source": [
        "# Conditional statements\n",
        "score = 85\n",
        "if score >= 90:\n",
        "    print(\"Excellent!\")\n",
        "elif score >= 80:\n",
        "    print(\"Good job!\")\n",
        "else:\n",
        "    print(\"Keep practicing!\")"
      ],
      "metadata": {
        "id": "7JVL1VRUZGyO"
      },
      "execution_count": null,
      "outputs": []
    },
    {
      "cell_type": "code",
      "source": [
        "# For loop - most common in ML\n",
        "for i, score in enumerate(scores):\n",
        "    print(f\"Student {i+1}: {score}\")\n",
        "\n",
        "# While loop (use sparingly in ML)\n",
        "i = 0\n",
        "while i < 3:\n",
        "    print(f\"Top {i+1} score: {sorted(scores, reverse=True)[i]}\")\n",
        "    i += 1"
      ],
      "metadata": {
        "id": "l-bOdgS2Zd4z"
      },
      "execution_count": null,
      "outputs": []
    },
    {
      "cell_type": "markdown",
      "source": [
        " **Functions and Modules**"
      ],
      "metadata": {
        "id": "9vMR__GEaSGI"
      }
    },
    {
      "cell_type": "code",
      "source": [
        "# function\n",
        "def calculate_average(numbers):\n",
        "    \"\"\"Calculate the average of a list of numbers.\"\"\"\n",
        "    return sum(numbers) / len(numbers)"
      ],
      "metadata": {
        "id": "bJSAnxDdaVku"
      },
      "execution_count": null,
      "outputs": []
    },
    {
      "cell_type": "code",
      "source": [
        "# Modules\n",
        "import random\n",
        "import math\n",
        "import datetime\n",
        "\n",
        "# Essential modules for ML\n",
        "import numpy as np\n",
        "import pandas as pd\n",
        "\n",
        "# Generate random data (useful for testing)\n",
        "random_scores = [random.randint(70, 100) for _ in range(10)]\n",
        "print(f\"Random sample: {random_scores}\")\n",
        "print(f\"Sample average: {calculate_average(random_scores):.2f}\")"
      ],
      "metadata": {
        "id": "YsHR3Iipbli0"
      },
      "execution_count": null,
      "outputs": []
    },
    {
      "cell_type": "markdown",
      "source": [
        "**Error Handling**\n",
        "> What is Error Handling and Example:"
      ],
      "metadata": {
        "id": "WbauR0HINPVR"
      }
    },
    {
      "cell_type": "code",
      "source": [
        "# Try-except blocks\n",
        "def safe_average(numbers):\n",
        "    \"\"\"Calculate average safely, handling potential errors.\"\"\"\n",
        "    try:\n",
        "        return sum(numbers) / len(numbers)\n",
        "    except ZeroDivisionError:\n",
        "        return 0\n",
        "    except TypeError:\n",
        "        # Convert all to floats if possible\n",
        "        try:\n",
        "            numbers = [float(x) for x in numbers]\n",
        "            return sum(numbers) / len(numbers)\n",
        "        except:\n",
        "            return \"Error: Input contains non-numeric values\""
      ],
      "metadata": {
        "id": "kkHz99IrNdLX"
      },
      "execution_count": null,
      "outputs": []
    },
    {
      "cell_type": "markdown",
      "source": [
        "**Project: Climate Data Analysis System**"
      ],
      "metadata": {
        "id": "brpM0iSrRlVU"
      }
    },
    {
      "cell_type": "code",
      "source": [
        "#1.Importing Libraries\n",
        "#2.Setting Up Logging\n",
        "#3.DataCollector Class\n",
        "#4.DataProcessor Class\n",
        "#5.DataAnalyzer Class\n",
        "#6.ClimateDataSystem Class\n",
        "#7.ClimateDataSystem Class"
      ],
      "metadata": {
        "id": "9BC7U7bDR0ss"
      },
      "execution_count": 17,
      "outputs": []
    },
    {
      "cell_type": "code",
      "source": [],
      "metadata": {
        "id": "MBYT2B7BR-U9"
      },
      "execution_count": null,
      "outputs": []
    }
  ]
}